{
 "cells": [
  {
   "cell_type": "code",
   "execution_count": 3,
   "id": "c5134d41-c881-42cf-8521-f11d6a10f211",
   "metadata": {},
   "outputs": [],
   "source": [
    "import os\n",
    "import numpy as np\n",
    "import pydicom\n",
    "import scipy\n",
    "import cv2\n",
    "import matplotlib.pyplot as plt"
   ]
  },
  {
   "cell_type": "code",
   "execution_count": 15,
   "id": "2cb6cbd7-788c-4ceb-9c17-d557ef74e7f1",
   "metadata": {},
   "outputs": [],
   "source": [
    "file_path = \"C:/Users/clarynse/nnUNetFrame/dataset/nnUNet_raw/Dataset002_ThyroidSeg/imagesTr\""
   ]
  },
  {
   "cell_type": "code",
   "execution_count": 17,
   "id": "4dc31b52-bb91-4fc8-a826-c4fe3a072ef5",
   "metadata": {},
   "outputs": [],
   "source": [
    "def load_dicom(file_path):\n",
    "    dicom_data = pydicom.dcmread(file_path)\n",
    "    image_data = dicom_data.pixel_array  #Get the pixel array\n",
    "    return image_data\n",
    "    "
   ]
  },
  {
   "cell_type": "code",
   "execution_count": 25,
   "id": "761492b3-80f1-4de4-a81b-ec493073d6b5",
   "metadata": {},
   "outputs": [
    {
     "name": "stdout",
     "output_type": "stream",
     "text": [
      "\n",
      "Files in imagesTr: ['.ipynb_checkpoints', 'case001_0000.nrrd', 'case002_0000.nrrd', 'case003_0000.nrrd', 'case004_0000.nrrd', 'case005_0000.nrrd', 'case006_0000.nrrd', 'case007_0000.nrrd', 'case008_0000.nrrd', 'case009_0000.nrrd']\n"
     ]
    }
   ],
   "source": [
    "print(\"\\nFiles in imagesTr:\", os.listdir(file_path)[:10])  # Print first 10 files"
   ]
  },
  {
   "cell_type": "code",
   "execution_count": 29,
   "id": "f4635317-6ba7-4737-9ae5-0ea38f6ec5a7",
   "metadata": {},
   "outputs": [
    {
     "name": "stdout",
     "output_type": "stream",
     "text": [
      "Dataset Path Exists: True\n"
     ]
    }
   ],
   "source": [
    "print(\"Dataset Path Exists:\", os.path.exists(file_path))"
   ]
  },
  {
   "cell_type": "code",
   "execution_count": null,
   "id": "fe4d8435-1419-4e40-a281-a4c5e462298a",
   "metadata": {},
   "outputs": [],
   "source": [
    "#Example usage\n",
    "dicom_image = load_dicom(\"path_to_dicom_file.dcm\")"
   ]
  },
  {
   "cell_type": "code",
   "execution_count": null,
   "id": "5b34aa27-dad0-4025-8334-4c3b48dc8c0a",
   "metadata": {},
   "outputs": [],
   "source": [
    "#Normalize the image\n",
    "\n",
    "def normalize_image(image_data):\n",
    "    #Normalize to the range [0,1]\n",
    "    image_normalized = (image_data - np.min(image_data)) / (np.max(image_data) - np.min(image_data))\n",
    "    return image_normalized"
   ]
  },
  {
   "cell_type": "code",
   "execution_count": null,
   "id": "1cc6c913-8698-4d3b-aeaf-e0604dbd6518",
   "metadata": {},
   "outputs": [],
   "source": [
    "#Example usage\n",
    "dicom_image_normalized = normalize_image(dicom_image)"
   ]
  },
  {
   "cell_type": "code",
   "execution_count": null,
   "id": "96e182c1-d0fb-40e4-ac9b-c2465493859c",
   "metadata": {},
   "outputs": [],
   "source": [
    "#Rescaling the image\n",
    "\n",
    "def resize_image(image_data, target_size=(128,128)):\n",
    "    resized_image = cv2.resize(image_data, target_size, interpolation=cv2.INTER_LINEAR)\n",
    "    return resized_image"
   ]
  },
  {
   "cell_type": "code",
   "execution_count": null,
   "id": "a3c1ed15-2bed-4843-9a09-df717e8ea52d",
   "metadata": {},
   "outputs": [],
   "source": [
    "#Example usage\n",
    "resized_image = resize_image(dicom_image_normalized, target_size=(128,128))"
   ]
  },
  {
   "cell_type": "code",
   "execution_count": null,
   "id": "ec3ef074-d6fb-4238-92ac-169e9d590bf5",
   "metadata": {},
   "outputs": [],
   "source": [
    "#Slice Selection\n",
    "#For manual selection select the desired slice:\n",
    "#Load the DICOM series(assuming they are in a folder)\n",
    "def load_dicom_series(directory_path):\n",
    "    dicom_files = sorted(f for f in os.listdir(directory_path) if f.endswith('.dcm')])\n",
    "    dicom_images = [load_dicom(os.path.join(directory_path,f)) for f in dicom_files]\n",
    "    return np.array(dicom_images)\n",
    "    "
   ]
  },
  {
   "cell_type": "code",
   "execution_count": null,
   "id": "cc858d2d-10dc-482f-8b36-26b577331263",
   "metadata": {},
   "outputs": [],
   "source": [
    "#Example usage\n",
    "dicom_series = load_dicom_series(\"path_to_directory_with_dicom_images\")\n"
   ]
  },
  {
   "cell_type": "code",
   "execution_count": null,
   "id": "6777d34e-f5c7-4059-9d54-6565fcf98b34",
   "metadata": {},
   "outputs": [],
   "source": [
    "#Select Specific Slice (eg.50th slice)\n",
    "slice_index = 50\n",
    "selected_slice = dicom_series[slice_index]\n"
   ]
  },
  {
   "cell_type": "code",
   "execution_count": null,
   "id": "8fe54c2e-f193-4f99-b2b0-e7c271ba7c82",
   "metadata": {},
   "outputs": [],
   "source": [
    "#Apply thresholding for region of interest(RoI)\n",
    "def apply_threshold(image_data, lower_threshold, upper_threshold):\n",
    "    thresholded_image = np.clip(image_data, lower_threshold, upper_threshold)\n",
    "    return thresholded_image"
   ]
  },
  {
   "cell_type": "code",
   "execution_count": null,
   "id": "9159a7e2-b716-461f-aaaa-ff402bb35b5e",
   "metadata": {},
   "outputs": [],
   "source": [
    "#Example usage\n",
    "thresholded_image = apply_threshold(resized_image, lower_threshold=0, upper_threshold=500)\n"
   ]
  },
  {
   "cell_type": "code",
   "execution_count": null,
   "id": "8a2e544e-fec2-49b4-98d5-53cfbc37e86b",
   "metadata": {},
   "outputs": [],
   "source": [
    "#Apply smoothing (optional)\n",
    "def apply_smoothing(image_data, kernel_size=(3,3)):\n",
    "    smoothed_image = cv2.GaussianBlur(image_data, kernel_size, 0)\n",
    "    return smoothed_image\n",
    "    "
   ]
  },
  {
   "cell_type": "code",
   "execution_count": null,
   "id": "8719e3f5-e76c-48b5-85b0-4b695f166641",
   "metadata": {},
   "outputs": [],
   "source": [
    "#Example usage\n",
    "smoothed-image = apply_smoothing(thresholded_image)\n"
   ]
  },
  {
   "cell_type": "code",
   "execution_count": null,
   "id": "d32aa017-5ac3-4537-9258-1bebe8bbc8eb",
   "metadata": {},
   "outputs": [],
   "source": [
    "#Data Augmentation(Optional)\n",
    "#For Deep Learning tasks, augmenting the dataset can help improve model generalization. Transformations like rotation, flipping, scaling, or random crops to your images.\n",
    "def augment_image(image_data):\n",
    "    #Example augmentation:random flip\n",
    "    if np.random.rand() > 0.5:\n",
    "        image_data = np.flipud(image_data) #Flip vertically\n",
    "    return image_data"
   ]
  },
  {
   "cell_type": "code",
   "execution_count": null,
   "id": "0c93e474-0bc0-4cad-b0b5-8b490cbdd59d",
   "metadata": {},
   "outputs": [],
   "source": [
    "#Example usage\n",
    "augmented_image = augment_image(smoothed_image)\n"
   ]
  },
  {
   "cell_type": "code",
   "execution_count": null,
   "id": "a610ce55-6163-4f9a-ae18-0cb5fd5482d1",
   "metadata": {},
   "outputs": [],
   "source": [
    "#Save the preprocessed images\n",
    "def save_image(image_data, save_path):\n",
    "    plt.imsave(save_path, image_data, cmap='gray')"
   ]
  },
  {
   "cell_type": "code",
   "execution_count": null,
   "id": "5dce1f6c-3046-4d42-90a9-644f07e6b4ae",
   "metadata": {},
   "outputs": [],
   "source": [
    "#Example usage\n",
    "save_image(augmented_image, \"preprocessed_image.png\")"
   ]
  },
  {
   "cell_type": "code",
   "execution_count": null,
   "id": "c3c96778-4593-4109-af35-9dcfc78b149a",
   "metadata": {},
   "outputs": [],
   "source": [
    "#Organizing and labelling\n",
    "#If you are working with a set of images(like a whole scan with multiple slices), make sure to organize your data and create proper labels if necessary for supervised learning tasks. You may also want to store additional metadata, like slice position or other relevant information from the DICOM headers."
   ]
  }
 ],
 "metadata": {
  "kernelspec": {
   "display_name": "Python [conda env:base] *",
   "language": "python",
   "name": "conda-base-py"
  },
  "language_info": {
   "codemirror_mode": {
    "name": "ipython",
    "version": 3
   },
   "file_extension": ".py",
   "mimetype": "text/x-python",
   "name": "python",
   "nbconvert_exporter": "python",
   "pygments_lexer": "ipython3",
   "version": "3.12.7"
  }
 },
 "nbformat": 4,
 "nbformat_minor": 5
}
