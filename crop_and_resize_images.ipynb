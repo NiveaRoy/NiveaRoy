{
 "cells": [
  {
   "cell_type": "code",
   "execution_count": null,
   "id": "e0b14e36-a67b-4921-b103-9cf4c68df097",
   "metadata": {},
   "outputs": [],
   "source": [
    "#Libraries needed\n",
    "import os\n",
    "import SimpleITK as sitk\n",
    "import numpy as np\n",
    "import scipy\n",
    "import skimage\n",
    "import cv2"
   ]
  },
  {
   "cell_type": "code",
   "execution_count": null,
   "id": "d2b5af2d-234b-4cab-86cd-b1648f93dcc7",
   "metadata": {},
   "outputs": [],
   "source": [
    "#Reading Nifti Data and plotting\n",
    "ct_path='D:/Science/Github/3D-Medical-Imaging-Preprocessing-All-you-need/Data/img0001.nii.gz'\n",
    "ct_label_path='D:/Science/Github/3D-Medical-Imaging-Preprocessing-All-you-need/Data/label0001.nii.gz'\n",
    "\n",
    "# CT\n",
    "img_sitk  = sitk.ReadImage(ct_path, sitk.sitkFloat32) # Reading CT\n",
    "image     = sitk.GetArrayFromImage(img_sitk) #Converting sitk_metadata to image Array\n",
    "# Mask\n",
    "mask_sitk = sitk.ReadImage(ct_label_path,sitk.sitkInt32) # Reading CT\n",
    "mask      = sitk.GetArrayFromImage(mask_sitk)#Converting sitk_metadata to image Array"
   ]
  },
  {
   "cell_type": "code",
   "execution_count": null,
   "id": "5d38cbcd-cce3-42ea-955d-ac09bea293fa",
   "metadata": {},
   "outputs": [],
   "source": [
    "#Crop or padding\n",
    "def resize_image_with_crop_or_pad(image, img_size=(64, 64, 64), **kwargs):\n",
    "    \"\"\"Image resizing. Resizes image by cropping or padding dimension\n",
    "     to fit specified size.\n",
    "    Args:\n",
    "        image (np.ndarray): image to be resized\n",
    "        img_size (list or tuple): new image size\n",
    "        kwargs (): additional arguments to be passed to np.pad\n",
    "    Returns:\n",
    "        np.ndarray: resized image\n",
    "    \"\"\"\n",
    "\n",
    "    assert isinstance(image, (np.ndarray, np.generic))\n",
    "    assert (image.ndim - 1 == len(img_size) or image.ndim == len(img_size)), \\\n",
    "        'Example size doesnt fit image size'\n",
    "\n",
    "    # Get the image dimensionality\n",
    "    rank = len(img_size)\n",
    "\n",
    "    # Create placeholders for the new shape\n",
    "    from_indices = [[0, image.shape[dim]] for dim in range(rank)]\n",
    "    to_padding = [[0, 0] for dim in range(rank)]\n",
    "\n",
    "    slicer = [slice(None)] * rank\n",
    "\n",
    "    # For each dimensions find whether it is supposed to be cropped or padded\n",
    "    for i in range(rank):\n",
    "        if image.shape[i] < img_size[i]:\n",
    "            to_padding[i][0] = (img_size[i] - image.shape[i]) // 2\n",
    "            to_padding[i][1] = img_size[i] - image.shape[i] - to_padding[i][0]\n",
    "        else:\n",
    "            from_indices[i][0] = int(np.floor((image.shape[i] - img_size[i]) / 2.))\n",
    "            from_indices[i][1] = from_indices[i][0] + img_size[i]\n",
    "\n",
    "        # Create slicer object to crop or leave each dimension\n",
    "        slicer[i] = slice(from_indices[i][0], from_indices[i][1])\n",
    "\n",
    "    # Pad the cropped image to extend the missing dimension\n",
    "    return np.pad(image[slicer], to_padding, **kwargs)"
   ]
  }
 ],
 "metadata": {
  "kernelspec": {
   "display_name": "Python [conda env:base] *",
   "language": "python",
   "name": "conda-base-py"
  },
  "language_info": {
   "codemirror_mode": {
    "name": "ipython",
    "version": 3
   },
   "file_extension": ".py",
   "mimetype": "text/x-python",
   "name": "python",
   "nbconvert_exporter": "python",
   "pygments_lexer": "ipython3",
   "version": "3.12.7"
  }
 },
 "nbformat": 4,
 "nbformat_minor": 5
}
