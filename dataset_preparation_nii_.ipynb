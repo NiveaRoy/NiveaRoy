{
 "cells": [
  {
   "cell_type": "code",
   "execution_count": null,
   "id": "29bfff6e-438c-4552-8d56-80f6c103115a",
   "metadata": {},
   "outputs": [],
   "source": [
    "!pip install tensorflow\n",
    "!pip install scipy\n",
    "!pip install pynrrd"
   ]
  },
  {
   "cell_type": "code",
   "execution_count": null,
   "id": "05790057-3038-4d45-b303-5165b0b281fd",
   "metadata": {},
   "outputs": [],
   "source": [
    "from __future__ import absolute_import, division, print_function, unicode_literals\n",
    "import tensorflow as tf\n",
    "import numpy as np\n",
    "import pandas as pd\n",
    "import SimpleITK as sitk\n",
    "from matplotlib import pyplot as plt\n",
    "from scipy import ndimage\n",
    "from scipy.ndimage.interpolation import map_coordinates\n",
    "from scipy.ndimage.filters import gaussian_filter\n",
    "import math\n",
    "from skimage.filters import threshold_mean\n",
    "import cv2"
   ]
  },
  {
   "cell_type": "code",
   "execution_count": null,
   "id": "94ac4e8e-6ebb-4647-9dd2-c6e937e5d925",
   "metadata": {},
   "outputs": [],
   "source": [
    "import SimpleITK as sitk\n",
    "from ipywidgets import interact\n",
    "\n",
    "print(sitk.Version())"
   ]
  },
  {
   "cell_type": "code",
   "execution_count": null,
   "id": "a6e24517-7957-4dd1-8910-3020b4d68f57",
   "metadata": {},
   "outputs": [],
   "source": [
    "import os\n",
    "dataset_path = \"C:/Users/clarynse/HN_CHUS_Laryngeal_Cancer/Raw_images\""
   ]
  },
  {
   "cell_type": "code",
   "execution_count": null,
   "id": "8a5a18a0-246e-409e-90e1-c2f5287cb237",
   "metadata": {},
   "outputs": [],
   "source": [
    "# Check if required directories exist\n",
    "print(\"Dataset Path Exists:\", os.path.exists(dataset_path))"
   ]
  },
  {
   "cell_type": "code",
   "execution_count": null,
   "id": "6cd17c11-c1bc-45e4-9053-78c63c63e400",
   "metadata": {},
   "outputs": [],
   "source": [
    "# List files in Raw_images folder\n",
    "print(\"\\nFiles in Raw_images folder:\", os.listdir(dataset_path))"
   ]
  },
  {
   "cell_type": "code",
   "execution_count": null,
   "id": "a7631fe3-4c97-4645-b0f1-657d6313adbb",
   "metadata": {},
   "outputs": [],
   "source": [
    "import SimpleITK as sitk\n",
    "import os\n",
    "\n",
    "# Define input and output paths\n",
    "dicom_root = \"C:/Users/clarynse/HN_CHUS_Laryngeal_Cancer/Raw_images\"  # Root folder containing subfolders with DICOM images\n",
    "output_dir = \"C:/Users/clarynse/HN_CHUS_Laryngeal_Cancer/Processed_nii_images\"  # Folder to save converted 3D images\n",
    "os.makedirs(output_dir, exist_ok=True)\n",
    "\n",
    "# Iterate through each patient folder\n",
    "for patient_folder in os.listdir(dicom_root):\n",
    "    dicom_path = os.path.join(dicom_root, patient_folder)\n",
    "    \n",
    "    if os.path.isdir(dicom_path):  # Ensure it's a directory\n",
    "        reader = sitk.ImageSeriesReader()\n",
    "        dicom_series = reader.GetGDCMSeriesFileNames(dicom_path)\n",
    "        \n",
    "        if not dicom_series:\n",
    "            print(f\"Skipping {patient_folder}, no DICOM files found.\")\n",
    "            continue\n",
    "\n",
    "        reader.SetFileNames(dicom_series)\n",
    "        image = reader.Execute()\n",
    "\n",
    "        # Save as .nii\n",
    "        nii_path = os.path.join(output_dir, f\"{patient_folder}.nii.gz\")\n",
    "        sitk.WriteImage(image, nii_path)\n",
    "\n",
    "        print(f\"Saved {patient_folder} as .nii\")"
   ]
  },
  {
   "cell_type": "code",
   "execution_count": null,
   "id": "e21a4ff1-5ade-4d57-869a-d88723910524",
   "metadata": {},
   "outputs": [],
   "source": [
    "#Extracting Metadata from the images\n",
    "\n",
    "def extract_metadata(image_path):\n",
    "    image = sitk.ReadImage(image_path)\n",
    "    spacing = image.GetSpacing()  # (x, y, z) voxel spacing\n",
    "    size = image.GetSize()  # (x, y, z) dimensions\n",
    "    direction = image.GetDirection()  # Image orientation\n",
    "    origin = image.GetOrigin()  # Physical coordinates of origin\n",
    "    \n",
    "    print(f\"File: {image_path}\")\n",
    "    print(f\"Voxel Spacing: {spacing}\")\n",
    "    print(f\"Size: {size}\")\n",
    "    print(f\"Direction: {direction}\")\n",
    "    print(f\"Origin: {origin}\")\n",
    "    print(\"-\" * 50)\n",
    "\n",
    "# Apply to all converted images\n",
    "for file in os.listdir(output_dir):\n",
    "    if file.endswith(\".nii.gz\"):\n",
    "        extract_metadata(os.path.join(output_dir, file))"
   ]
  },
  {
   "cell_type": "code",
   "execution_count": null,
   "id": "fe048f9c-73b3-44f9-9ab7-8bcc3450ed4c",
   "metadata": {},
   "outputs": [],
   "source": [
    "#Resampling the images to 1 mm slices\n",
    "\n",
    "def resample_image(image, new_spacing=(1.0, 1.0, 1.0)):\n",
    "    old_spacing = image.GetSpacing()\n",
    "    old_size = image.GetSize()\n",
    "\n",
    "    new_size = [\n",
    "        int(round(old_size[i] * (old_spacing[i] / new_spacing[i])))\n",
    "        for i in range(3)\n",
    "    ]\n",
    "\n",
    "    resampler = sitk.ResampleImageFilter()\n",
    "    resampler.SetOutputSpacing(new_spacing)\n",
    "    resampler.SetSize(new_size)\n",
    "    resampler.SetInterpolator(sitk.sitkLinear)\n",
    "    resampler.SetOutputDirection(image.GetDirection())\n",
    "    resampler.SetOutputOrigin(image.GetOrigin())\n",
    "    \n",
    "    return resampler.Execute(image)\n",
    "\n",
    "# Apply to all converted images\n",
    "for file in os.listdir(output_dir):\n",
    "    if file.endswith(\".nii.gz\"):\n",
    "        img_path = os.path.join(output_dir, file)\n",
    "        img = sitk.ReadImage(img_path)\n",
    "\n",
    "        resampled_img = resample_image(img)\n",
    "        resampled_path = img_path.replace(\".\", \"_resampled.\")\n",
    "        sitk.WriteImage(resampled_img, resampled_path)\n",
    "        print(f\"Resampled {file} and saved to {resampled_path}\")"
   ]
  },
  {
   "cell_type": "code",
   "execution_count": null,
   "id": "71bfcf6c-d526-4c2b-bbca-fdefeb102440",
   "metadata": {},
   "outputs": [],
   "source": [
    "#Crop the Images\n",
    "#We extract a subregion based on the given coordinates (x1=200, x2=320, y1=130, y2=250) and slice range (30-80).\n",
    "def crop_image(image, x1=200, x2=320, y1=130, y2=250, z_start=30, z_end=80):\n",
    "    array = sitk.GetArrayFromImage(image)  # Convert to numpy array\n",
    "    cropped_array = array[z_start:z_end, y1:y2, x1:x2]  # Crop region\n",
    "    \n",
    "    cropped_image = sitk.GetImageFromArray(cropped_array)\n",
    "    cropped_image.SetSpacing(image.GetSpacing())  # Preserve voxel spacing\n",
    "    return cropped_image\n",
    "\n",
    "# Apply cropping\n",
    "for file in os.listdir(output_dir):\n",
    "    if \"resampled\" in file and file.endswith(\".nii\"):\n",
    "        img_path = os.path.join(output_dir, file)\n",
    "        img = sitk.ReadImage(img_path)\n",
    "\n",
    "        cropped_img = crop_image(img)\n",
    "        cropped_path = img_path.replace(\"resampled\", \"cropped\")\n",
    "        sitk.WriteImage(cropped_img, cropped_path)\n",
    "        print(f\"Cropped {file} and saved to {cropped_path}\")"
   ]
  },
  {
   "cell_type": "code",
   "execution_count": null,
   "id": "5e5eb7a9-aebe-4e5c-b5b8-f4e75e27110b",
   "metadata": {},
   "outputs": [],
   "source": [
    "#Visualizing 3D Cropped Images\n",
    "#Since a 3D image consists of multiple slices, we'll display a few representative slices using matplotlib.\n",
    "import SimpleITK as sitk\n",
    "import numpy as np\n",
    "import matplotlib.pyplot as plt\n",
    "\n",
    "def visualize_3d_image(image_path, num_slices=5):\n",
    "    \"\"\"\n",
    "    Visualize multiple slices from a 3D cropped image.\n",
    "    \n",
    "    Parameters:\n",
    "    - image_path: Path to the 3D NIfTI or NRRD image\n",
    "    - num_slices: Number of slices to display across the volume\n",
    "    \"\"\"\n",
    "    image = sitk.ReadImage(image_path)\n",
    "    img_array = sitk.GetArrayFromImage(image)  # Convert to numpy array\n",
    "\n",
    "    total_slices = img_array.shape[0]  # Number of slices in Z-direction\n",
    "    slice_indices = np.linspace(0, total_slices - 1, num_slices, dtype=int)  # Select slices evenly spaced\n",
    "\n",
    "    fig, axes = plt.subplots(1, num_slices, figsize=(15, 5))\n",
    "    \n",
    "    for i, slice_idx in enumerate(slice_indices):\n",
    "        axes[i].imshow(img_array[slice_idx], cmap=\"gray\")\n",
    "        axes[i].set_title(f\"Slice {slice_idx}\")\n",
    "        axes[i].axis(\"off\")\n",
    "\n",
    "    plt.tight_layout()\n",
    "    plt.show()\n",
    "\n",
    "# Example usage\n",
    "cropped_image_path = \"C:/Users/clarynse/HN_CHUS_Laryngeal_Cancer/Processed_nii_images/HN_CHUS_001_cropped.nii\"  # Replace with your actual file\n",
    "visualize_3d_image(cropped_image_path)\n",
    "\n",
    "#This code selects num_slices (default: 5) slices from the 3D volume and displays them."
   ]
  }
 ],
 "metadata": {
  "kernelspec": {
   "display_name": "Python [conda env:base] *",
   "language": "python",
   "name": "conda-base-py"
  },
  "language_info": {
   "codemirror_mode": {
    "name": "ipython",
    "version": 3
   },
   "file_extension": ".py",
   "mimetype": "text/x-python",
   "name": "python",
   "nbconvert_exporter": "python",
   "pygments_lexer": "ipython3",
   "version": "3.12.7"
  }
 },
 "nbformat": 4,
 "nbformat_minor": 5
}
