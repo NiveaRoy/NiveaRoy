{
 "cells": [
  {
   "cell_type": "code",
   "execution_count": null,
   "id": "2950010c-1098-431d-a0aa-c65bef9c8076",
   "metadata": {},
   "outputs": [],
   "source": [
    "pip install pynrrd nibabel numpy"
   ]
  },
  {
   "cell_type": "code",
   "execution_count": null,
   "id": "34c66f64-6db4-44a7-9c12-4c2148d84d02",
   "metadata": {},
   "outputs": [],
   "source": [
    "import nrrd\n",
    "import nibabel as nib\n",
    "import numpy as np\n",
    "import os\n",
    "\n",
    "# Define input and output directories\n",
    "input_folder = \"/path/to/nrrd/\"\n",
    "output_folder = \"/path/to/nifti/\"\n",
    "\n",
    "os.makedirs(output_folder, exist_ok=True)\n",
    "\n",
    "for file in os.listdir(input_folder):\n",
    "    if file.endswith(\".nrrd\"):\n",
    "        file_path = os.path.join(input_folder, file)\n",
    "        data, header = nrrd.read(file_path)  # Read NRRD file\n",
    "        \n",
    "        # Convert to NIfTI format\n",
    "        nifti_img = nib.Nifti1Image(data, affine=np.eye(4))\n",
    "        \n",
    "        # Save the converted file\n",
    "        output_path = os.path.join(output_folder, file.replace(\".nrrd\", \".nii.gz\"))\n",
    "        nib.save(nifti_img, output_path)\n",
    "        print(f\"Converted: {file} → {output_path}\")\n"
   ]
  },
  {
   "cell_type": "code",
   "execution_count": null,
   "id": "06a2bddc-9937-45bb-8dfb-dace1989712a",
   "metadata": {},
   "outputs": [],
   "source": [
    "pip install SimpleITK"
   ]
  },
  {
   "cell_type": "code",
   "execution_count": null,
   "id": "5e4a46aa-3045-4ba5-8cf5-2420f2ab0d57",
   "metadata": {},
   "outputs": [],
   "source": [
    "#Cropping \n",
    "import SimpleITK as sitk\n",
    "import os\n",
    "\n",
    "input_folder = \"/path/to/nifti/\"\n",
    "output_folder = \"/path/to/cropped_nifti/\"\n",
    "os.makedirs(output_folder, exist_ok=True)\n",
    "\n",
    "for file in os.listdir(input_folder):\n",
    "    if file.endswith(\".nii.gz\"):\n",
    "        img_path = os.path.join(input_folder, file)\n",
    "        \n",
    "        # Read the image\n",
    "        img = sitk.ReadImage(img_path)\n",
    "        array = sitk.GetArrayFromImage(img)\n",
    "\n",
    "        # Define crop range (adjust based on dataset)\n",
    "        crop_slices = (50, 150)  # Adjust Z-axis range\n",
    "        cropped_array = array[crop_slices[0]:crop_slices[1], :, :]\n",
    "        \n",
    "        # Convert back to NIfTI\n",
    "        cropped_img = sitk.GetImageFromArray(cropped_array)\n",
    "        cropped_img.SetSpacing(img.GetSpacing())\n",
    "        cropped_img.SetDirection(img.GetDirection())\n",
    "        cropped_img.SetOrigin(img.GetOrigin())\n",
    "\n",
    "        # Save cropped image\n",
    "        output_path = os.path.join(output_folder, file)\n",
    "        sitk.WriteImage(cropped_img, output_path)\n",
    "        print(f\"Cropped and saved: {file}\")\n"
   ]
  },
  {
   "cell_type": "markdown",
   "id": "8fca4617-a99a-44c8-9841-fb8a489cee04",
   "metadata": {},
   "source": [
    "bash\n",
    "\n",
    "pip install nnunet\n"
   ]
  },
  {
   "cell_type": "markdown",
   "id": "dbb29206-edb0-4210-b06d-14b9ba8db9f2",
   "metadata": {},
   "source": [
    "bash\n",
    "\n",
    "export nnUNet_raw_data_base=\"/path/to/nnUNet_raw_data_base\"\n",
    "export nnUNet_preprocessed=\"/path/to/nnUNet_preprocessed\"\n",
    "export nnUNet_results=\"/path/to/nnUNet_results\"\n",
    "\n",
    "# Create required folders\n",
    "mkdir -p $nnUNet_raw_data_base/Task001_ThyroidSeg/imagesTr\n",
    "mkdir -p $nnUNet_raw_data_base/Task001_ThyroidSeg/labelsTr\n",
    "mkdir -p $nnUNet_raw_data_base/Task001_ThyroidSeg/imagesTs\n",
    "✅ Store cropped images and labels in these folders."
   ]
  },
  {
   "cell_type": "markdown",
   "id": "7a88df61-41f8-437f-978f-0ecf838d070a",
   "metadata": {},
   "source": [
    "#Preprocess Data for nnUNet\n",
    "\n",
    "bash\n",
    "\n",
    "nnUNetv2_plan_and_preprocess -d 1 --verify_dataset_integrity\n",
    "✅ Output: Preprocessed images in nnUNet format."
   ]
  },
  {
   "cell_type": "markdown",
   "id": "4cee76ab-2f02-4589-82a5-5d36867fd450",
   "metadata": {},
   "source": [
    "#Train nnUNet Model\n",
    "\n",
    "bash\n",
    "\n",
    "nnUNetv2_train 3d_fullres Task001_ThyroidSeg 0\n",
    "\n",
    "✅ Training starts using GPU."
   ]
  },
  {
   "cell_type": "markdown",
   "id": "7c7d67cc-35e3-448c-8efb-89d5e9832e54",
   "metadata": {},
   "source": [
    "#Evaluate Model Performance\n",
    "\n",
    "bash\n",
    "\n",
    "nnUNetv2_evaluate_predictions --gt_labels /path/to/labelsTs/ --predictions /path/to/predictions/\n",
    "\n",
    "✅ Metrics (Dice Score, Hausdorff Distance) are computed.\n"
   ]
  },
  {
   "cell_type": "markdown",
   "id": "42930bcc-9c89-497a-ba9b-dd5e311e3649",
   "metadata": {},
   "source": [
    "#Inference on New Images\n",
    "\n",
    "bash\n",
    "\n",
    "nnUNetv2_predict -i /path/to/new_cts/ -o /path/to/predictions/ -d 1 -c 3d_fullres -f all\n"
   ]
  }
 ],
 "metadata": {
  "kernelspec": {
   "display_name": "Python [conda env:base] *",
   "language": "python",
   "name": "conda-base-py"
  },
  "language_info": {
   "codemirror_mode": {
    "name": "ipython",
    "version": 3
   },
   "file_extension": ".py",
   "mimetype": "text/x-python",
   "name": "python",
   "nbconvert_exporter": "python",
   "pygments_lexer": "ipython3",
   "version": "3.12.7"
  }
 },
 "nbformat": 4,
 "nbformat_minor": 5
}
