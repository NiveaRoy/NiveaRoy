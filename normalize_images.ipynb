{
 "cells": [
  {
   "cell_type": "code",
   "execution_count": 3,
   "id": "d0d0ec08-fc5b-4ccc-9f9a-8dc78f697650",
   "metadata": {},
   "outputs": [],
   "source": [
    "#Libraries needed\n",
    "import os\n",
    "import SimpleITK as sitk\n",
    "import numpy as np\n",
    "import scipy\n",
    "import skimage\n",
    "import cv2"
   ]
  },
  {
   "cell_type": "code",
   "execution_count": 5,
   "id": "30b2dd2d-4bac-4db6-a558-0c5ef6472d67",
   "metadata": {},
   "outputs": [],
   "source": [
    "#Reading Nifti Data and plotting\n",
    "ct_path='NasalSeg/nnUNet_raw/Dataset123_NasalSeg/imagesTr/P001_0000.nii.gz'\n",
    "ct_label_path='NasalSeg/nnUNet_raw/Dataset123_NasalSeg/labelsTr/P001.nii.gz'\n",
    "\n",
    "# CT\n",
    "img_sitk  = sitk.ReadImage(ct_path, sitk.sitkFloat32) # Reading CT\n",
    "image     = sitk.GetArrayFromImage(img_sitk) #Converting sitk_metadata to image Array\n",
    "# Mask\n",
    "mask_sitk = sitk.ReadImage(ct_label_path,sitk.sitkInt32) # Reading CT\n",
    "mask      = sitk.GetArrayFromImage(mask_sitk)#Converting sitk_metadata to image Array"
   ]
  },
  {
   "cell_type": "code",
   "execution_count": null,
   "id": "c66cf545-683f-4a3f-8083-294e8188b46b",
   "metadata": {},
   "outputs": [],
   "source": [
    "#Intensity Normalization\n",
    "def normalise(image):\n",
    "    # normalise and clip images -1000 to 800\n",
    "    np_img = image\n",
    "    np_img = np.clip(np_img, -1000., 800.).astype(np.float32)\n",
    "    return np_img\n",
    "\n",
    "\n",
    "def whitening(image):\n",
    "    \"\"\"Whitening. Normalises image to zero mean and unit variance.\"\"\"\n",
    "\n",
    "    image = image.astype(np.float32)\n",
    "\n",
    "    mean = np.mean(image)\n",
    "    std = np.std(image)\n",
    "\n",
    "    if std > 0:\n",
    "        ret = (image - mean) / std\n",
    "    else:\n",
    "        ret = image * 0.\n",
    "    return ret\n",
    "\n",
    "\n",
    "def normalise_zero_one(image):\n",
    "    \"\"\"Image normalisation. Normalises image to fit [0, 1] range.\"\"\"\n",
    "\n",
    "    image = image.astype(np.float32)\n",
    "\n",
    "    minimum = np.min(image)\n",
    "    maximum = np.max(image)\n",
    "\n",
    "    if maximum > minimum:\n",
    "        ret = (image - minimum) / (maximum - minimum)\n",
    "    else:\n",
    "        ret = image * 0.\n",
    "    return ret\n",
    "\n",
    "\n",
    "def normalise_one_one(image):\n",
    "    \"\"\"Image normalisation. Normalises image to fit [-1, 1] range.\"\"\"\n",
    "\n",
    "    ret = normalise_zero_one(image)\n",
    "    ret *= 2.\n",
    "    ret -= 1.\n",
    "    return ret"
   ]
  },
  {
   "cell_type": "code",
   "execution_count": null,
   "id": "2b7e22ad-f43e-4115-ab28-a122bd363b3e",
   "metadata": {},
   "outputs": [],
   "source": []
  }
 ],
 "metadata": {
  "kernelspec": {
   "display_name": "Python [conda env:base] *",
   "language": "python",
   "name": "conda-base-py"
  },
  "language_info": {
   "codemirror_mode": {
    "name": "ipython",
    "version": 3
   },
   "file_extension": ".py",
   "mimetype": "text/x-python",
   "name": "python",
   "nbconvert_exporter": "python",
   "pygments_lexer": "ipython3",
   "version": "3.12.7"
  }
 },
 "nbformat": 4,
 "nbformat_minor": 5
}
