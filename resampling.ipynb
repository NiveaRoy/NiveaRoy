{
 "cells": [
  {
   "cell_type": "code",
   "execution_count": null,
   "id": "99d7fb99-8706-41aa-9138-6fe073637539",
   "metadata": {},
   "outputs": [],
   "source": [
    "#Libraries needed\n",
    "import os\n",
    "import SimpleITK as sitk\n",
    "import numpy as np\n",
    "import scipy\n",
    "import skimage\n",
    "import cv2"
   ]
  },
  {
   "cell_type": "code",
   "execution_count": null,
   "id": "f57a0110-c999-4941-ba3e-81ecd45a4747",
   "metadata": {},
   "outputs": [],
   "source": [
    "#Reading Nifti Data and plotting\n",
    "ct_path='D:/Science/Github/3D-Medical-Imaging-Preprocessing-All-you-need/Data/img0001.nii.gz'\n",
    "ct_label_path='D:/Science/Github/3D-Medical-Imaging-Preprocessing-All-you-need/Data/label0001.nii.gz'\n",
    "\n",
    "# CT\n",
    "img_sitk  = sitk.ReadImage(ct_path, sitk.sitkFloat32) # Reading CT\n",
    "image     = sitk.GetArrayFromImage(img_sitk) #Converting sitk_metadata to image Array\n",
    "# Mask\n",
    "mask_sitk = sitk.ReadImage(ct_label_path,sitk.sitkInt32) # Reading CT\n",
    "mask      = sitk.GetArrayFromImage(mask_sitk)#Converting sitk_metadata to image Array"
   ]
  },
  {
   "cell_type": "code",
   "execution_count": null,
   "id": "fc89d097-8067-4c6f-9629-b0df84e29583",
   "metadata": {},
   "outputs": [],
   "source": [
    "#Resampling\n",
    "def resample_img(itk_image, out_spacing=[2.0, 2.0, 2.0], is_label=False):\n",
    "    # resample images to 2mm spacing with simple itk\n",
    "\n",
    "    original_spacing = itk_image.GetSpacing()\n",
    "    original_size = itk_image.GetSize()\n",
    "\n",
    "    out_size = [\n",
    "        int(np.round(original_size[0] * (original_spacing[0] / out_spacing[0]))),\n",
    "        int(np.round(original_size[1] * (original_spacing[1] / out_spacing[1]))),\n",
    "        int(np.round(original_size[2] * (original_spacing[2] / out_spacing[2])))]\n",
    "\n",
    "    resample = sitk.ResampleImageFilter()\n",
    "    resample.SetOutputSpacing(out_spacing)\n",
    "    resample.SetSize(out_size)\n",
    "    resample.SetOutputDirection(itk_image.GetDirection())\n",
    "    resample.SetOutputOrigin(itk_image.GetOrigin())\n",
    "    resample.SetTransform(sitk.Transform())\n",
    "    resample.SetDefaultPixelValue(itk_image.GetPixelIDValue())\n",
    "\n",
    "    if is_label:\n",
    "        resample.SetInterpolator(sitk.sitkNearestNeighbor)\n",
    "    else:\n",
    "        resample.SetInterpolator(sitk.sitkBSpline)\n",
    "\n",
    "    return resample.Execute(itk_image)"
   ]
  },
  {
   "cell_type": "code",
   "execution_count": null,
   "id": "06d9a807-f0d0-4396-a25c-bdafa7380c60",
   "metadata": {},
   "outputs": [],
   "source": []
  }
 ],
 "metadata": {
  "kernelspec": {
   "display_name": "Python [conda env:base] *",
   "language": "python",
   "name": "conda-base-py"
  },
  "language_info": {
   "codemirror_mode": {
    "name": "ipython",
    "version": 3
   },
   "file_extension": ".py",
   "mimetype": "text/x-python",
   "name": "python",
   "nbconvert_exporter": "python",
   "pygments_lexer": "ipython3",
   "version": "3.12.7"
  }
 },
 "nbformat": 4,
 "nbformat_minor": 5
}
