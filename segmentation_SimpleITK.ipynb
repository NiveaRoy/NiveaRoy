{
 "cells": [
  {
   "cell_type": "markdown",
   "id": "01827b7a-47f0-4075-8912-201b4fa810a7",
   "metadata": {},
   "source": [
    "1. Installation and Setup\n",
    "   To get started with SimpleITK, ensure that you have Python 3.x installed on your system.\n",
    "   You can install SimpleITK using pip as follows:"
   ]
  },
  {
   "cell_type": "code",
   "execution_count": null,
   "id": "5bc94473-1e6d-4a24-bed1-15efe3f5983a",
   "metadata": {},
   "outputs": [],
   "source": [
    "pip install SimpleITK"
   ]
  },
  {
   "cell_type": "markdown",
   "id": "628d8f0c-2bf9-46a2-90b4-ee8a3b485c24",
   "metadata": {},
   "source": [
    "Once installed, you can import SimpleITK in your Python script:"
   ]
  },
  {
   "cell_type": "code",
   "execution_count": null,
   "id": "38b7fbff-32ae-42c4-821d-0ee98b110d7f",
   "metadata": {},
   "outputs": [],
   "source": [
    "import SimpleITK as sitk"
   ]
  },
  {
   "cell_type": "markdown",
   "id": "28f58def-13a0-4187-9c1c-575cefbbeda3",
   "metadata": {},
   "source": [
    "2. Basic Image Processing Operations\n",
    "   In this section, we’ll cover some fundamental image processing operations using SimpleITK,\n",
    "   such as reading and writing images, accessing pixel values, and resampling images."
   ]
  },
  {
   "cell_type": "markdown",
   "id": "9726e7b0-626e-4b9a-9129-0257eee1d244",
   "metadata": {},
   "source": [
    "2.1 Reading and Writing Images\n",
    "    To read an image file using SimpleITK, use the ReadImage() function:"
   ]
  },
  {
   "cell_type": "code",
   "execution_count": null,
   "id": "8c016036-b10e-458d-babe-dbf3e023682d",
   "metadata": {},
   "outputs": [],
   "source": [
    "image = sitk.ReadImage(\"path/to/your/image_file.extension\")"
   ]
  },
  {
   "cell_type": "markdown",
   "id": "c82fcc33-aec5-45d8-8cee-7dbe9d27de1d",
   "metadata": {},
   "source": [
    "To write an image to a file, use the WriteImage() function:"
   ]
  },
  {
   "cell_type": "code",
   "execution_count": null,
   "id": "66e37cb9-bae3-45b8-8e83-d7817121c4e0",
   "metadata": {},
   "outputs": [],
   "source": [
    "sitk.WriteImage(image, \"path/to/output/image_file.extension\")"
   ]
  },
  {
   "cell_type": "markdown",
   "id": "9a0dface-6d67-4e4b-9273-acf68b03546f",
   "metadata": {},
   "source": [
    "3.2 Accessing Pixel Values\n",
    "    To access the pixel value at a specific location in an image, use the GetPixel() method:"
   ]
  },
  {
   "cell_type": "code",
   "execution_count": null,
   "id": "d6e3e330-da99-4e02-b547-551a9c3ab0a4",
   "metadata": {},
   "outputs": [],
   "source": [
    "pixel_value = image.GetPixel(x, y, z)"
   ]
  },
  {
   "cell_type": "markdown",
   "id": "bef13679-d4a7-4bef-9201-f81a6bf36cc6",
   "metadata": {},
   "source": [
    "To set the pixel value at a specific location, use the SetPixel() method:"
   ]
  },
  {
   "cell_type": "code",
   "execution_count": null,
   "id": "7f5a11b7-79a5-4469-8699-ba3d781fe186",
   "metadata": {},
   "outputs": [],
   "source": [
    "image.SetPixel(x, y, z, new_pixel_value)"
   ]
  },
  {
   "cell_type": "markdown",
   "id": "20941927-92ff-4295-9779-67444a6616d5",
   "metadata": {},
   "source": [
    "2.3 Resampling Images:\n",
    "    Resampling is a common operation in image processing, \n",
    "    which involves changing the image’s spatial resolution or the number of pixels representing the image. \n",
    "    To resample an image, you can use SimpleITK’s Resample() function:"
   ]
  },
  {
   "cell_type": "code",
   "execution_count": null,
   "id": "d6cd1252-cf88-44a0-a690-86f00b04cfe7",
   "metadata": {},
   "outputs": [],
   "source": [
    "resampled_image = sitk.Resample(image, new_size, sitk.Transform(), sitk.sitkLinear, image.GetOrigin(), new_spacing, image.GetDirection(), 0.0, image.GetPixelID())"
   ]
  },
  {
   "cell_type": "markdown",
   "id": "89df4a9d-4711-42d5-9754-2f029ff79242",
   "metadata": {},
   "source": [
    "Here, new_size and new_spacing are the desired output image size and spacing, respectively."
   ]
  },
  {
   "cell_type": "markdown",
   "id": "847c1dec-6379-4b74-a0fb-869dcc0bb129",
   "metadata": {},
   "source": [
    "3. Image Segmentation:\n",
    "   Segmentation is the process of partitioning an image into distinct regions,\n",
    "   often used to identify and isolate objects or structures within the image.\n",
    "   SimpleITK provides a plethora of segmentation algorithms, catering to various applications and problem domains.\n",
    "   In this section, we will cover some popular segmentation techniques,\n",
    "   such as thresholding, region growing, and level set segmentation."
   ]
  },
  {
   "cell_type": "markdown",
   "id": "72d3d888-2b1a-4f9f-b87e-206de2a5f42b",
   "metadata": {},
   "source": [
    "3.1 Thresholding:\n",
    "    Thresholding is one of the simplest segmentation techniques, \n",
    "    which involves separating the image into regions based on pixel intensity values. \n",
    "    SimpleITK offers various thresholding algorithms, including Otsu’s method, which can be applied as follows:"
   ]
  },
  {
   "cell_type": "code",
   "execution_count": null,
   "id": "90571963-6ee9-4b5e-9425-7fe941c1d9dc",
   "metadata": {},
   "outputs": [],
   "source": [
    "otsu_filter = sitk.OtsuThresholdImageFilter()\n",
    "thresholded_image = otsu_filter.Execute(image)"
   ]
  },
  {
   "cell_type": "markdown",
   "id": "2e913a9a-46ca-45c9-88ec-9576b9c3bdf0",
   "metadata": {},
   "source": [
    "3.2 Region Growing:\n",
    "Region growing is another popular segmentation technique, which involves starting from a seed point \n",
    "and progressively adding neighboring pixels to the region if they meet certain criteria. \n",
    "The ConnectedThreshold() function in SimpleITK allows you to perform region growing:"
   ]
  },
  {
   "cell_type": "code",
   "execution_count": null,
   "id": "e6a28f41-e062-42ca-9035-91211a3d60e6",
   "metadata": {},
   "outputs": [],
   "source": [
    "seed = (x, y, z)\n",
    "region_growing = sitk.ConnectedThreshold(image, seedList=[seed], lower=lower_threshold, upper=upper_threshold)"
   ]
  },
  {
   "cell_type": "markdown",
   "id": "d4ab0ce7-4263-4b60-96dc-36906c689365",
   "metadata": {},
   "source": [
    "3.3 Level Set Segmentation\n",
    "Level set segmentation is an advanced technique that involves evolving a contour to fit the boundaries of an object in the image. \n",
    "SimpleITK provides various level set segmentation algorithms, such as the GeodesicActiveContourLevelSetImageFilter:"
   ]
  },
  {
   "cell_type": "code",
   "execution_count": null,
   "id": "51c95c95-5ee4-4d2e-924c-4ffdd7352aee",
   "metadata": {},
   "outputs": [],
   "source": [
    "level_set_filter = sitk.GeodesicActiveContourLevelSetImageFilter()\n",
    "level_set_image = level_set_filter.Execute(initial_level_set_image, feature_image)"
   ]
  },
  {
   "cell_type": "markdown",
   "id": "539e06ef-9c56-4666-9857-43f5532eebdd",
   "metadata": {},
   "source": [
    "4. Image Registration\n",
    "    Image registration is the process of aligning two or more images of the same scene, \n",
    "    which is essential in many medical imaging applications. SimpleITK provides a wide range of registration algorithms, \n",
    "    including intensity-based and feature-based methods. \n",
    "    In this section, we will cover the basics of intensity-based registration using SimpleITK."
   ]
  },
  {
   "cell_type": "markdown",
   "id": "68450abe-5a27-4079-bdfd-935fe1a9ecf2",
   "metadata": {},
   "source": [
    "4.1 Intensity-Based Registration:\n",
    "    Intensity-based registration involves finding the optimal transformation that aligns the intensities of two images. \n",
    "    SimpleITK provides the ImageRegistrationMethod() class for performing intensity-based registration:"
   ]
  },
  {
   "cell_type": "code",
   "execution_count": null,
   "id": "3dba7205-8aa2-47dc-ad1c-df62dabd6f86",
   "metadata": {},
   "outputs": [],
   "source": [
    "registration_method = sitk.ImageRegistrationMethod()"
   ]
  },
  {
   "cell_type": "code",
   "execution_count": null,
   "id": "38714e92-7fd4-475b-85c1-fa358323aaf2",
   "metadata": {},
   "outputs": [],
   "source": [
    "# Set the registration method's components\n",
    "registration_method.SetMetricAsMeanSquares()\n",
    "registration_method.SetOptimizerAsGradientDescentLineSearch()\n",
    "registration_method.SetInterpolator(sitk.sitkLinear)\n",
    "# Perform the registration\n",
    "final_transform = registration_method.Execute(fixed_image, moving_image)"
   ]
  },
  {
   "cell_type": "markdown",
   "id": "18948f8c-f3fb-431e-8de9-6af14f2ce660",
   "metadata": {},
   "source": [
    "Here, fixed_image and moving_image are the images to be aligned."
   ]
  },
  {
   "cell_type": "markdown",
   "id": "65241548-9faf-4c82-8dac-bfc87a7458e8",
   "metadata": {},
   "source": [
    "5. Image Filtering:\n",
    "   Image filtering is a key component of image processing, which involves modifying an image to enhance certain features or remove noise.\n",
    "   SimpleITK offers a vast collection of image filters, including smoothing, edge detection, and morphological filters.\n",
    "   In this section, we will cover some popular filtering techniques using SimpleITK."
   ]
  },
  {
   "cell_type": "markdown",
   "id": "37d0f74e-cb14-4395-9056-5497a32c2d55",
   "metadata": {},
   "source": [
    "5.1 Smoothing Filters\n",
    "    Smoothing filters are used to reduce noise and enhance image structures. \n",
    "    SimpleITK provides various smoothing filters, such as the Gaussian filter, which can be applied as follows:"
   ]
  },
  {
   "cell_type": "code",
   "execution_count": null,
   "id": "3a372b43-9991-4976-90d3-ae50f2d1472f",
   "metadata": {},
   "outputs": [],
   "source": [
    "gaussian_filter = sitk.SmoothingRecursiveGaussianImageFilter()\n",
    "smoothed_image = gaussian_filter.Execute(image)"
   ]
  },
  {
   "cell_type": "markdown",
   "id": "68ef5ad1-64f5-46b4-ab2f-4babde3a27b6",
   "metadata": {},
   "source": [
    "5.2 Edge Detection Filters\n",
    "    Edge detection filters highlight the boundaries between different regions in an image. \n",
    "    SimpleITK offers various edge detection filters, including the Canny filter:"
   ]
  },
  {
   "cell_type": "code",
   "execution_count": null,
   "id": "9aabe673-84a2-4e69-862b-08682ffde6a8",
   "metadata": {},
   "outputs": [],
   "source": [
    "canny_filter = sitk.CannyEdgeDetectionImageFilter()\n",
    "edges_image = canny_filter.Execute(image)"
   ]
  },
  {
   "cell_type": "markdown",
   "id": "7b39d242-84a6-4190-8ded-039c14044e9f",
   "metadata": {},
   "source": [
    "5.3 Morphological Filters\n",
    "    Morphological filters are used to modify the shape and structure of objects within an image. \n",
    "    SimpleITK provides a range of morphological filters, such as the binary dilation filter:"
   ]
  },
  {
   "cell_type": "code",
   "execution_count": null,
   "id": "b650cf00-13f7-497e-8db2-6113f761f6dd",
   "metadata": {},
   "outputs": [],
   "source": [
    "dilation_filter = sitk.BinaryDilateImageFilter()\n",
    "dilated_image = dilation_filter.Execute(binary_image)"
   ]
  },
  {
   "cell_type": "markdown",
   "id": "d3a36d7e-d0f8-4529-badc-417aa52c7507",
   "metadata": {},
   "source": [
    "Here, binary_image is a binary image where the objects to be dilated are represented by non-zero pixel values."
   ]
  },
  {
   "cell_type": "markdown",
   "id": "6d77e550-6a57-4b35-a604-aba9caa58947",
   "metadata": {},
   "source": [
    "6. Feature Extraction:\n",
    "   Feature extraction involves extracting meaningful information or characteristics from an image,\n",
    "   which can be used for various purposes such as classification or pattern recognition.\n",
    "   SimpleITK provides a variety of feature extraction algorithms,\n",
    "   including those based on local image statistics, texture analysis, and shape descriptors.\n",
    "   In this section, we will cover some popular feature extraction techniques using SimpleITK."
   ]
  },
  {
   "cell_type": "markdown",
   "id": "6a49800b-1ecb-4a72-afe9-d54624f9b0a2",
   "metadata": {},
   "source": [
    "6.1 Local Image Statistics:\n",
    "    Local image statistics, such as local mean and variance, can provide valuable information about an image’s characteristics. \n",
    "    SimpleITK offers filters to compute these statistics, such as the MeanImageFilter:"
   ]
  },
  {
   "cell_type": "code",
   "execution_count": null,
   "id": "45813989-79be-4e33-b434-142bd21dbb97",
   "metadata": {},
   "outputs": [],
   "source": [
    "mean_filter = sitk.MeanImageFilter()\n",
    "mean_image = mean_filter.Execute(image)"
   ]
  },
  {
   "cell_type": "markdown",
   "id": "94b0ea0a-fa99-4e63-8306-33f86549fe98",
   "metadata": {},
   "source": [
    "6.2 Texture Analysis:\n",
    "    Texture analysis involves characterizing an image’s textural properties, \n",
    "    which can be useful for tasks like material identification or tumor detection. \n",
    "    SimpleITK provides texture analysis filters, such as the Haralick texture features:"
   ]
  },
  {
   "cell_type": "code",
   "execution_count": null,
   "id": "0f1109b0-09b7-4ab1-8cce-c14dae06941b",
   "metadata": {},
   "outputs": [],
   "source": [
    "haralick_filter = sitk.ScalarImageToCooccurrenceMatrixFilter()\n",
    "haralick_features = haralick_filter.Execute(image)"
   ]
  },
  {
   "cell_type": "markdown",
   "id": "4c524d06-571e-4b6e-93b4-fc4d4292f441",
   "metadata": {},
   "source": [
    "6.3 Shape Descriptors:\n",
    "    Shape descriptors quantify the geometric properties of objects within an image. \n",
    "    SimpleITK offers various shape descriptor filters, such as the LabelShapeStatisticsImageFilter:"
   ]
  },
  {
   "cell_type": "code",
   "execution_count": null,
   "id": "1ffd8609-b79a-4c8b-8fbe-270c60b5ba60",
   "metadata": {},
   "outputs": [],
   "source": [
    "shape_filter = sitk.LabelShapeStatisticsImageFilter()\n",
    "shape_filter.Execute(labeled_image)"
   ]
  },
  {
   "cell_type": "markdown",
   "id": "28dec284-d125-4f95-8246-d6e5de3c277c",
   "metadata": {},
   "source": [
    "Here, labeled_image is an image where each object is represented by a unique label."
   ]
  },
  {
   "cell_type": "markdown",
   "id": "36c5df85-b272-4ca8-9f9e-84089076fb02",
   "metadata": {},
   "source": [
    "7. Visualization and Analysis:\n",
    "   Visualizing and analyzing the results of your image processing operations is crucial for understanding and interpreting your data.\n",
    "   SimpleITK provides various visualization and analysis tools, including the Show() function for displaying images\n",
    "   and the LabelStatisticsImageFilter for computing statistics of labeled regions."
   ]
  },
  {
   "cell_type": "markdown",
   "id": "3bdb34b0-9871-4201-b155-5866eac3e4f3",
   "metadata": {},
   "source": [
    "7.1 Displaying Images:\n",
    "    To display an image using SimpleITK, you can use the Show() function:"
   ]
  },
  {
   "cell_type": "code",
   "execution_count": null,
   "id": "45224e77-e3c2-49c0-a674-cf47c840f2ff",
   "metadata": {},
   "outputs": [],
   "source": [
    "sitk.Show(image, \"Window Title\")"
   ]
  },
  {
   "cell_type": "markdown",
   "id": "0b455187-58fc-474a-bfae-2229b7461032",
   "metadata": {},
   "source": [
    "7.2 Computing Label Statistics:\n",
    "    To compute statistics of labeled regions in an image, you can use the LabelStatisticsImageFilter:"
   ]
  },
  {
   "cell_type": "code",
   "execution_count": null,
   "id": "220652aa-b1e3-4d6b-9201-12a6f6d9fbf6",
   "metadata": {},
   "outputs": [],
   "source": [
    "label_stats_filter = sitk.LabelStatisticsImageFilter()\n",
    "label_stats_filter.Execute(image, labeled_image)"
   ]
  },
  {
   "cell_type": "code",
   "execution_count": null,
   "id": "c039f282-7201-40f9-aab6-78dccc2c7399",
   "metadata": {},
   "outputs": [],
   "source": [
    "# Accessing statistics for a specific label\n",
    "mean_intensity = label_stats_filter.GetMean(label_value)"
   ]
  },
  {
   "cell_type": "code",
   "execution_count": null,
   "id": "79475654-34b1-43e5-83f0-6448f03088c2",
   "metadata": {},
   "outputs": [],
   "source": [
    "8. Practical Examples and Code Snippets\n",
    "In this section, we’ll provide some practical examples and code snippets demonstrating how to use SimpleITK for various image processing tasks.\n",
    "\n",
    "8.1 Image Segmentation: Brain Tumor Detection\n",
    "To perform brain tumor detection using SimpleITK, you can utilize the ConnectedThreshold() function for region growing, \n",
    "starting from a seed point within the tumor:\n",
    "\n",
    "# Read the input image and set the seed point\n",
    "image = sitk.ReadImage(\"path/to/brain_image.nii\")\n",
    "seed = (x, y, z)\n",
    "# Perform region growing segmentation\n",
    "tumor_segmentation = sitk.ConnectedThreshold(image, seedList=[seed], lower=lower_threshold, upper=upper_threshold)\n",
    "# Save the segmented image\n",
    "sitk.WriteImage(tumor_segmentation, \"path/to/output/tumor_segmentation.nii\")\n",
    "\n",
    "8.2 Image Registration: Aligning Multi-Modal Images\n",
    "To align multi-modal images, such as CT and MR scans, using SimpleITK, you can utilize the ImageRegistrationMethod() class with mutual information as the metric:\n",
    "\n",
    "registration_method = sitk.ImageRegistrationMethod()\n",
    "# Set the registration method's components\n",
    "registration_method.SetMetricAsMattesMutualInformation()\n",
    "registration_method.SetOptimizerAsGradientDescentLineSearch()\n",
    "registration_method.SetInterpolator(sitk.sitkLinear)\n",
    "\n",
    "# Perform the registration\n",
    "final_transform = registration_method.Execute(fixed_image, moving_image)\n",
    "\n",
    "# Apply the transformation to the moving image\n",
    "aligned_image = sitk.Resample(moving_image, fixed_image, final_transform, sitk.sitkLinear)\n",
    "\n",
    "# Save the aligned image\n",
    "sitk.WriteImage(aligned_image, \"path/to/output/aligned_image.nii\")"
   ]
  }
 ],
 "metadata": {
  "kernelspec": {
   "display_name": "Python [conda env:base] *",
   "language": "python",
   "name": "conda-base-py"
  },
  "language_info": {
   "codemirror_mode": {
    "name": "ipython",
    "version": 3
   },
   "file_extension": ".py",
   "mimetype": "text/x-python",
   "name": "python",
   "nbconvert_exporter": "python",
   "pygments_lexer": "ipython3",
   "version": "3.12.7"
  }
 },
 "nbformat": 4,
 "nbformat_minor": 5
}
